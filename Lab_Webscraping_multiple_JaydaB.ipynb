{
  "nbformat": 4,
  "nbformat_minor": 0,
  "metadata": {
    "colab": {
      "provenance": [],
      "authorship_tag": "ABX9TyNxhqgvkicRJf9tsKcWGB2h",
      "include_colab_link": true
    },
    "kernelspec": {
      "name": "python3",
      "display_name": "Python 3"
    },
    "language_info": {
      "name": "python"
    }
  },
  "cells": [
    {
      "cell_type": "markdown",
      "metadata": {
        "id": "view-in-github",
        "colab_type": "text"
      },
      "source": [
        "<a href=\"https://colab.research.google.com/github/JaydaBubel/lab-web-scraping-multiple-pages/blob/master/Lab_Webscraping_multiple_JaydaB.ipynb\" target=\"_parent\"><img src=\"https://colab.research.google.com/assets/colab-badge.svg\" alt=\"Open In Colab\"/></a>"
      ]
    },
    {
      "cell_type": "code",
      "execution_count": 21,
      "metadata": {
        "id": "Q7b61dnORzJK"
      },
      "outputs": [],
      "source": [
        "\n",
        "import requests\n",
        "from bs4 import BeautifulSoup\n",
        "import pandas as pd"
      ]
    },
    {
      "cell_type": "code",
      "source": [
        "r = requests.get('https://en.wikipedia.org/wiki/Lists_of_songs')\n",
        "r.status_code"
      ],
      "metadata": {
        "colab": {
          "base_uri": "https://localhost:8080/"
        },
        "id": "iqGhSMSqIb_q",
        "outputId": "1af0fb6a-af06-44ef-fad5-cccec3988d39"
      },
      "execution_count": 42,
      "outputs": [
        {
          "output_type": "execute_result",
          "data": {
            "text/plain": [
              "200"
            ]
          },
          "metadata": {},
          "execution_count": 42
        }
      ]
    },
    {
      "cell_type": "code",
      "source": [
        "r.headers"
      ],
      "metadata": {
        "colab": {
          "base_uri": "https://localhost:8080/"
        },
        "id": "hmKbGJnrIj8R",
        "outputId": "7b858651-dbaa-4e80-d931-bc0d7faaa2f9"
      },
      "execution_count": 43,
      "outputs": [
        {
          "output_type": "execute_result",
          "data": {
            "text/plain": [
              "{'date': 'Thu, 14 Sep 2023 07:33:07 GMT', 'server': 'mw1387.eqiad.wmnet', 'x-content-type-options': 'nosniff', 'content-language': 'en', 'x-frame-options': 'DENY', 'accept-ch': '', 'vary': 'Accept-Encoding,Cookie', 'last-modified': 'Thu, 14 Sep 2023 01:26:27 GMT', 'content-type': 'text/html; charset=UTF-8', 'content-encoding': 'gzip', 'age': '42359', 'x-cache': 'cp1077 hit, cp1079 hit/25', 'x-cache-status': 'hit-front', 'server-timing': 'cache;desc=\"hit-front\", host;desc=\"cp1079\"', 'strict-transport-security': 'max-age=106384710; includeSubDomains; preload', 'report-to': '{ \"group\": \"wm_nel\", \"max_age\": 604800, \"endpoints\": [{ \"url\": \"https://intake-logging.wikimedia.org/v1/events?stream=w3c.reportingapi.network_error&schema_uri=/w3c/reportingapi/network_error/1.0.0\" }] }', 'nel': '{ \"report_to\": \"wm_nel\", \"max_age\": 604800, \"failure_fraction\": 0.05, \"success_fraction\": 0.0}', 'set-cookie': 'WMF-Last-Access=14-Sep-2023;Path=/;HttpOnly;secure;Expires=Mon, 16 Oct 2023 12:00:00 GMT, WMF-Last-Access-Global=14-Sep-2023;Path=/;Domain=.wikipedia.org;HttpOnly;secure;Expires=Mon, 16 Oct 2023 12:00:00 GMT, WMF-DP=aa2;Path=/;HttpOnly;secure;Expires=Fri, 15 Sep 2023 00:00:00 GMT, GeoIP=US:IA:Council_Bluffs:41.26:-95.85:v4; Path=/; secure; Domain=.wikipedia.org, NetworkProbeLimit=0.001;Path=/;Secure;Max-Age=3600', 'x-client-ip': '34.30.121.90', 'cache-control': 'private, s-maxage=0, max-age=0, must-revalidate', 'accept-ranges': 'bytes', 'content-length': '37030'}"
            ]
          },
          "metadata": {},
          "execution_count": 43
        }
      ]
    },
    {
      "cell_type": "code",
      "source": [
        "#parse and get lists of links for rock band songs\n",
        "r = requests.get('https://en.wikipedia.org/wiki/Lists_of_songs')\n",
        "soup = BeautifulSoup(r.content, 'html.parser')\n",
        "\n",
        "def filter_function(tag):\n",
        "    return tag.has_attr('title') and tag['title'].startswith(\"List of songs in Rock\")\n",
        "\n",
        "links = soup.find_all(filter_function)\n",
        "\n",
        "base_url = \"https://en.wikipedia.org\"\n",
        "\n",
        "links_list = [base_url + link['href'] for link in links]\n",
        "\n",
        "links_list"
      ],
      "metadata": {
        "colab": {
          "base_uri": "https://localhost:8080/"
        },
        "id": "floSntXlB1NE",
        "outputId": "ea99d4a6-d828-4339-a223-5b0e0f6e0b0c"
      },
      "execution_count": 57,
      "outputs": [
        {
          "output_type": "execute_result",
          "data": {
            "text/plain": [
              "['https://en.wikipedia.org/wiki/List_of_songs_in_Rock_Band',\n",
              " 'https://en.wikipedia.org/wiki/List_of_songs_in_Rock_Band_2',\n",
              " 'https://en.wikipedia.org/wiki/List_of_songs_in_Rock_Band_3',\n",
              " 'https://en.wikipedia.org/wiki/List_of_songs_in_Rock_Band_4',\n",
              " 'https://en.wikipedia.org/wiki/List_of_songs_in_Rock_Band_Blitz',\n",
              " 'https://en.wikipedia.org/wiki/List_of_songs_in_Rock_Band_Unplugged']"
            ]
          },
          "metadata": {},
          "execution_count": 57
        }
      ]
    },
    {
      "cell_type": "code",
      "source": [
        "#scrape song, artist and year\n",
        "def scrape_songs_artists_years_from_url(url):\n",
        "    r = requests.get(url)\n",
        "    soup = BeautifulSoup(r.content, 'html.parser')\n",
        "#find table\n",
        "    table = soup.find('table', class_='wikitable')\n",
        "#make lists\n",
        "    songs = []\n",
        "    artists = []\n",
        "    years = []\n",
        "\n",
        "    if table:\n",
        "        rows = table.find_all('tr')[1:]\n",
        "\n",
        "        for row in rows:\n",
        "            cells = row.find_all('td')\n",
        "\n",
        "#check if there are at least three cells in the row\n",
        "            if len(cells) >= 3:\n",
        "#extract song, artist, and year from correct cells\n",
        "                song_title = cells[0].get_text(strip=True)\n",
        "                artist_name = cells[1].get_text(strip=True)\n",
        "                year = cells[2].get_text(strip=True)\n",
        "\n",
        "#append to lists\n",
        "                songs.append(song_title)\n",
        "                artists.append(artist_name)\n",
        "                years.append(year)\n",
        "\n",
        "    return songs, artists, years"
      ],
      "metadata": {
        "id": "sxsVggOjOGzE"
      },
      "execution_count": 73,
      "outputs": []
    },
    {
      "cell_type": "code",
      "source": [
        "#List of URLs\n",
        "urls = [\n",
        "    'https://en.wikipedia.org/wiki/List_of_songs_in_Rock_Band',\n",
        "    'https://en.wikipedia.org/wiki/List_of_songs_in_Rock_Band_2',\n",
        "    'https://en.wikipedia.org/wiki/List_of_songs_in_Rock_Band_3',\n",
        "    'https://en.wikipedia.org/wiki/List_of_songs_in_Rock_Band_4',\n",
        "    'https://en.wikipedia.org/wiki/List_of_songs_in_Rock_Band_Blitz',\n",
        "    'https://en.wikipedia.org/wiki/List_of_songs_in_Rock_Band_Unplugged'\n",
        "]\n",
        "\n",
        "all_songs = []\n",
        "all_artists = []\n",
        "all_years = []\n",
        "\n",
        "for url in urls:\n",
        "    songs, artists, years = scrape_songs_artists_years_from_url(url)\n",
        "    all_songs.extend(songs)\n",
        "    all_artists.extend(artists)\n",
        "    all_years.extend(years)\n",
        "\n",
        "#create df\n",
        "df = pd.DataFrame({'Song': all_songs, 'Artist': all_artists, 'Year': all_years})\n",
        "print(df)"
      ],
      "metadata": {
        "colab": {
          "base_uri": "https://localhost:8080/"
        },
        "id": "A90ixoGNPc_v",
        "outputId": "f4ff52b0-523d-4bd8-be75-bba5951983e3"
      },
      "execution_count": 74,
      "outputs": [
        {
          "output_type": "stream",
          "name": "stdout",
          "text": [
            "                            Song                       Artist   Year\n",
            "0     \"Are You Gonna Be My Girl\"                          Jet   2003\n",
            "1               \"Ballroom Blitz\"                        Sweet   1973\n",
            "2               \"Black Hole Sun\"                  Soundgarden   1994\n",
            "3               \"Blitzkrieg Bop\"                      Ramones   1976\n",
            "4               \"Celebrity Skin\"                         Hole   1998\n",
            "..                           ...                          ...    ...\n",
            "338  \"The Trees\" (Vault Edition)                         Rush  1970s\n",
            "339       \"What's My Age Again?\"                    Blink-182  1990s\n",
            "340            \"Where'd You Go?\"  The Mighty Mighty Bosstones  1990s\n",
            "341      \"White Wedding, Part 1\"                   Billy Idol  1980s\n",
            "342                     \"Would?\"              Alice in Chains  1990s\n",
            "\n",
            "[343 rows x 3 columns]\n"
          ]
        }
      ]
    },
    {
      "cell_type": "code",
      "source": [],
      "metadata": {
        "id": "m7-Xv4VGO5P5"
      },
      "execution_count": null,
      "outputs": []
    }
  ]
}